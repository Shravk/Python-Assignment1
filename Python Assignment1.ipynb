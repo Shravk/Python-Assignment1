{
 "cells": [
  {
   "cell_type": "raw",
   "id": "dfe15824",
   "metadata": {},
   "source": [
    " 1. In the below elements which of them are values or an expression? eg:- values can be integer or string and expressions will be mathematical operators.\n",
    "*   -  expression\n",
    "'hello' String\n",
    "-87.8   float\n",
    "-       expression\n",
    "/       expresiion\n",
    "+\t    expression\n",
    "6       interger\n",
    "\n",
    "  "
   ]
  },
  {
   "cell_type": "raw",
   "id": "47394c7f",
   "metadata": {},
   "source": [
    "2. What is the difference between string and variable?\n",
    "String is a data type.\n",
    "Variable - we can store date in variable."
   ]
  },
  {
   "cell_type": "raw",
   "id": "c5028678",
   "metadata": {},
   "source": [
    "3. Describe three different data types.\n",
    "\"String\"\n",
    "integer\n",
    "float\n",
    "complex\n",
    "list\n",
    "tuple\n",
    "set\n",
    "dict"
   ]
  },
  {
   "cell_type": "raw",
   "id": "85ce656f",
   "metadata": {},
   "source": [
    "4. What is an expression made up of? What do all expressions do?\n",
    "by using expressions we can add, subtract, divid, multiply the data and we can assign the values in variables."
   ]
  },
  {
   "cell_type": "raw",
   "id": "4918a472",
   "metadata": {},
   "source": [
    "5. This assignment statements, like spam = 10. What is the difference between an expression and a statement?\n",
    "Combinations of multiple operations is nothing but expression *,/,+,-\n",
    "By using Statment we can store differenet values in variables.  a= 10, b= \"ineuron\"\n",
    "\n",
    "\n"
   ]
  },
  {
   "cell_type": "code",
   "execution_count": 7,
   "id": "d510c6bb",
   "metadata": {},
   "outputs": [
    {
     "data": {
      "text/plain": [
       "23"
      ]
     },
     "execution_count": 7,
     "metadata": {},
     "output_type": "execute_result"
    }
   ],
   "source": [
    "6. After running the following code, what does the variable bacon contain?\n",
    "bacon = 22\n",
    "bacon + 1\n"
   ]
  },
  {
   "cell_type": "code",
   "execution_count": 9,
   "id": "15e89b85",
   "metadata": {},
   "outputs": [
    {
     "data": {
      "text/plain": [
       "'spamspamspam'"
      ]
     },
     "execution_count": 9,
     "metadata": {},
     "output_type": "execute_result"
    }
   ],
   "source": [
    "7. What should the values of the following two terms be?\n",
    "'spam' + 'spamspam'\n",
    "'spam' * 3\n"
   ]
  },
  {
   "cell_type": "raw",
   "id": "f6b29d5c",
   "metadata": {},
   "source": [
    "8. Why is eggs a valid variable name while 100 is invalid?\n",
    "variable name we can't begin with number."
   ]
  },
  {
   "cell_type": "raw",
   "id": "c767125a",
   "metadata": {},
   "source": [
    "9. What three functions can be used to get the integer, floating-point number, or string version of a value?\n",
    "int - type(10)\n",
    "float - type(3.0)\n",
    "str    - type(\"vcjh\")\n"
   ]
  },
  {
   "cell_type": "code",
   "execution_count": 16,
   "id": "2b597c7c",
   "metadata": {},
   "outputs": [
    {
     "data": {
      "text/plain": [
       "'I have eaten 99 burritos.'"
      ]
     },
     "execution_count": 16,
     "metadata": {},
     "output_type": "execute_result"
    }
   ],
   "source": [
    "10. Why does this expression cause an error? How can you fix it?\n",
    "'I have eaten ' + 99 + ' burritos.'\n",
    "we can't concatenate string with integer\n",
    "'I have eaten ' + str (99 )+ ' burritos.'"
   ]
  },
  {
   "cell_type": "code",
   "execution_count": null,
   "id": "efe5887b",
   "metadata": {},
   "outputs": [],
   "source": []
  }
 ],
 "metadata": {
  "kernelspec": {
   "display_name": "Python 3 (ipykernel)",
   "language": "python",
   "name": "python3"
  },
  "language_info": {
   "codemirror_mode": {
    "name": "ipython",
    "version": 3
   },
   "file_extension": ".py",
   "mimetype": "text/x-python",
   "name": "python",
   "nbconvert_exporter": "python",
   "pygments_lexer": "ipython3",
   "version": "3.9.7"
  }
 },
 "nbformat": 4,
 "nbformat_minor": 5
}
